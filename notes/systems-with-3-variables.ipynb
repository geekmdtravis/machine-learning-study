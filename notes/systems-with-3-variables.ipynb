{
 "cells": [
  {
   "cell_type": "markdown",
   "metadata": {},
   "source": [
    "# Sytems of Linear Equations with 3 variables\n",
    "\n",
    "$$\\begin{gather}\n",
    "a + b + c = 10 \\\\\n",
    "a + 2b + c = 15 \\\\\n",
    "a + b + 2c = 12\n",
    "\\end{gather}$$\n",
    "\n",
    "In this system, we have enough information to solve the equations so it is _complete_ and _non-singular_. We determine the singularity without a solution by looking at the determinant of the coefficient matrix. If the determinant is zero, the system is singular and has no solution. If the determinant is non-zero, the system is non-singular and has a solution. And, without considering the determinant, you can see that the system is complete and non-singular by setting the constants to zero and solving the equations.\n",
    "\n",
    "$$\\begin{gather}\n",
    "a + b + c = 0 \\\\\n",
    "a + 2b + c = 0 \\\\\n",
    "a + b + 2c = 0\n",
    "\\end{gather}$$\n",
    "\n",
    "The solution is $a = 0$, $b = 0$, and $c = 0$.\n",
    "\n",
    "$$\\begin{gather}\n",
    "a + b + c = 10 \\\\\n",
    "a + b + 2c = 12 \\\\\n",
    "a + b + 3c = 14\n",
    "\\end{gather}$$\n",
    "\n",
    "This is a singular system becuase the system does not give enough information to solve the equations. But, we'll simplify this by setting the constants to zero and solving the equations.\n",
    "\n",
    "$$\\begin{gather}\n",
    "a + b + c = 0 \\\\\n",
    "a + b + 2c = 0 \\\\\n",
    "a + b + 3c = 0\n",
    "\\end{gather}$$\n",
    "\n",
    "If you subtract the second system from the third, you get $c = 0$. However, the first equation is $a + b = 0$ and there are an infinite number of solutions for $a$ and $b$ that satisfy this equation. So, the system is singular and has no solution.\n",
    "\n",
    "$$\\begin{gather}\n",
    "a + b + c = 10 \\\\\n",
    "a + 2b + 2c = 12 \\\\\n",
    "a + 2b + 2c = 14\n",
    "\\end{gather}$$\n",
    "\n",
    "This is an example of a contradictory system and therefore singular. Let's demonstrate this by setting the constants to zero and solving the equations to demonstrate singularity.\n",
    "\n",
    "$$\\begin{gather}\n",
    "a + b + c = 0 \\\\\n",
    "a + 2b + 2c = 0 \\\\\n",
    "a + 2b + 2c = 0\n",
    "\\end{gather}$$\n",
    "\n",
    "If you subtract the second system from the third, you get $c = 0$. However, the first equation is $a + b = 0$ and there are an infinite number of solutions for $a$ and $b$ that satisfy this equation. So, the system is singular and has no solution.\n",
    "\n",
    "$$\\begin{gather}\n",
    "a + b + c = 0 \\\\\n",
    "0 = 0 \n",
    "\\end{gather}$$\n",
    "\n",
    "This is an example of a system with an infinite number of solutions as $0$ is always equal to $0$. This is a non-singular system.\n",
    "\n",
    "## 2-variable vs 3-variable systems\n",
    "\n",
    "A system of linear equations with 2 variables can be represented as a line on a 2-dimensional graph. A system of linear equations with 3 variables can be represented as a plane on a 3-dimensional graph. As such, that 3-variable system can not only have a point of intersection, but also a line of intersection or no intersection at all. So, systems for 3 variable systems can have no solution (singular), a point solution (non-singular), a line of solutions (singular), or an infinite number of solutions (singular). In contrast, a singular system for a 2-variable system can only have a point solution (non-singular), no solution or an infinite number of solutions (both singular).\n"
   ]
  },
  {
   "cell_type": "code",
   "execution_count": 28,
   "metadata": {},
   "outputs": [
    {
     "name": "stdout",
     "output_type": "stream",
     "text": [
      "[3. 5. 2.]\n"
     ]
    }
   ],
   "source": [
    "import numpy as np\n",
    "from numpy.linalg import LinAlgError\n",
    "\n",
    "day1 = np.array([1,1,1,10])\n",
    "day2 = np.array([1,2,1,15])\n",
    "day3 = np.array([1,1,2,12])\n",
    "\n",
    "try:\n",
    "    sol = np.linalg.solve([day1[:3], day2[:3], day3[:3]], [day1[3], day2[3], day3[3]])\n",
    "    print(sol)\n",
    "except LinAlgError as err:\n",
    "    print(err)\n",
    "\n"
   ]
  },
  {
   "cell_type": "code",
   "execution_count": 26,
   "metadata": {},
   "outputs": [
    {
     "name": "stdout",
     "output_type": "stream",
     "text": [
      "Singular matrix\n"
     ]
    }
   ],
   "source": [
    "import numpy as np\n",
    "from numpy.linalg import LinAlgError\n",
    "\n",
    "day1 = np.array([1,1,1,10])\n",
    "day2 = np.array([1,1,2,15])\n",
    "day3 = np.array([1,1,3,20])\n",
    "\n",
    "try:\n",
    "    np.linalg.solve([day1[:3], day2[:3], day3[:3]], [day1[3], day2[3], day3[3]])\n",
    "except LinAlgError as err:\n",
    "    print(err)"
   ]
  },
  {
   "cell_type": "code",
   "execution_count": 24,
   "metadata": {},
   "outputs": [
    {
     "name": "stdout",
     "output_type": "stream",
     "text": [
      "Singular matrix\n"
     ]
    }
   ],
   "source": [
    "import numpy as np\n",
    "from numpy.linalg import LinAlgError\n",
    "\n",
    "day1 = np.array([1,1,1,10])\n",
    "day2 = np.array([1,1,2,15])\n",
    "day3 = np.array([1,1,3,18])\n",
    "\n",
    "try:\n",
    "    np.linalg.solve([day1[:3], day2[:3], day3[:3]], [day1[3], day2[3], day3[3]])\n",
    "except LinAlgError as err:\n",
    "    print(err)"
   ]
  },
  {
   "cell_type": "code",
   "execution_count": 23,
   "metadata": {},
   "outputs": [
    {
     "name": "stdout",
     "output_type": "stream",
     "text": [
      "Singular matrix\n"
     ]
    }
   ],
   "source": [
    "import numpy as np\n",
    "from numpy.linalg import LinAlgError\n",
    "\n",
    "day1 = np.array([1,1,1,10])\n",
    "day2 = np.array([2,2,2,20])\n",
    "day3 = np.array([3,3,3,30])\n",
    "\n",
    "try:\n",
    "    np.linalg.solve([day1[:3], day2[:3], day3[:3]], [day1[3], day2[3], day3[3]])\n",
    "except LinAlgError as err:\n",
    "    print(err)"
   ]
  },
  {
   "cell_type": "markdown",
   "metadata": {},
   "source": [
    "## Linear Dependence\n",
    "\n",
    "In short, if an equation in a system of linear equations can be derived from the other equations in the system, then the system is linearly dependent. If an equation in a system of linear equations cannot be derived from the other equations in the system, then the system is linearly independent.\n",
    "\n",
    "Linear dependences is related to singularity. If a system is linearly dependent, then it is singular. If a system is linearly independent, then it is non-singular.\n",
    "\n",
    "## Linear Independence Example\n",
    "\n",
    "$$\\begin{gather}\n",
    "a + b + c = 10 \\\\\n",
    "a + 2b + c = 15 \\\\\n",
    "a + b + 2c = 12\n",
    "\\end{gather}$$\n",
    "\n",
    "In matrix notation:\n",
    "\n",
    "$$\\begin{bmatrix}\n",
    "1 & 1 & 1 \\\\\n",
    "1 & 2 & 1 \\\\\n",
    "1 & 1 & 2\n",
    "\\end{bmatrix}$$"
   ]
  },
  {
   "cell_type": "code",
   "execution_count": 30,
   "metadata": {},
   "outputs": [
    {
     "name": "stdout",
     "output_type": "stream",
     "text": [
      "[0. 0. 0.]\n"
     ]
    }
   ],
   "source": [
    "day1 = np.array([1,1,1,0])\n",
    "day2 = np.array([1,2,1,0])\n",
    "day3 = np.array([1,1,2,0])\n",
    "\n",
    "try:\n",
    "    sol = np.linalg.solve([day1[:3], day2[:3], day3[:3]], [day1[3], day2[3], day3[3]])\n",
    "    print(sol)\n",
    "\n",
    "except LinAlgError as err:\n",
    "    print(err)"
   ]
  },
  {
   "cell_type": "markdown",
   "metadata": {},
   "source": [
    "\n",
    "## Linear Dependence Example\n",
    "\n",
    "Notice that the third equation can be derived from the first two equations. So, the system is linearly dependent and therefore singular.\n",
    "\n",
    "$$\\begin{gather}\n",
    "a + b + c = 10 \\\\\n",
    "a + 2b + c = 15 \\\\\n",
    "2a + 3b + 2c = 12 \\\\\n",
    "\\end{gather}$$\n",
    "\n",
    "In matrix notation:\n",
    "\n",
    "$$\\begin{bmatrix}\n",
    "1 & 1 & 1 \\\\\n",
    "1 & 2 & 1 \\\\\n",
    "2 & 3 & 2\n",
    "\\end{bmatrix}$$"
   ]
  },
  {
   "cell_type": "code",
   "execution_count": 31,
   "metadata": {},
   "outputs": [
    {
     "name": "stdout",
     "output_type": "stream",
     "text": [
      "Singular matrix\n"
     ]
    }
   ],
   "source": [
    "day1 = np.array([1,1,1,0])\n",
    "day2 = np.array([1,2,1,0])\n",
    "day3 = np.array([2,3,2,0])\n",
    "\n",
    "try:\n",
    "    sol = np.linalg.solve([day1[:3], day2[:3], day3[:3]], [day1[3], day2[3], day3[3]])\n",
    "    print(sol)\n",
    "\n",
    "except LinAlgError as err:\n",
    "    print(err)"
   ]
  }
 ],
 "metadata": {
  "kernelspec": {
   "display_name": "base",
   "language": "python",
   "name": "python3"
  },
  "language_info": {
   "codemirror_mode": {
    "name": "ipython",
    "version": 3
   },
   "file_extension": ".py",
   "mimetype": "text/x-python",
   "name": "python",
   "nbconvert_exporter": "python",
   "pygments_lexer": "ipython3",
   "version": "3.11.5"
  }
 },
 "nbformat": 4,
 "nbformat_minor": 2
}
