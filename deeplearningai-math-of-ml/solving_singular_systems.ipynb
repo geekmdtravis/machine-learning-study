{
 "cells": [
  {
   "cell_type": "markdown",
   "metadata": {},
   "source": [
    "# Solving Singular Systems of Linear Equations\n",
    "\n",
    "## Redundant Systems\n",
    "\n",
    "In a redundant system of equations, you can solve them by setting one of the variables to a value of your choice, and then solving for the other variables.  For example, consider the following system of equations:\n",
    "\n",
    "$$\n",
    "\\begin{align}\n",
    "x + y + z &= 6 \\\\\n",
    "2x + 2y + 2z &= 12 \\\\\n",
    "3x + 3y + 3z &= 18\n",
    "\\end{align}\n",
    "$$\n",
    "\n",
    "You can see this is really just one equation repeated three times and scaled by 2 and 3.  And, any combination of $x$ and $y$ that satisfies this equation will be a solution to the original system of equations.  For example, $x = 0$ and $y = 6$ is a solution, as is $x = 1$ and $y = 5$, and $x = 2$ and $y = 4$, and so on. So there are an infinite number of solutions to this system of equations.\n",
    "\n",
    "\n",
    "## Contradictory Systems\n",
    "\n",
    "In a contradictory system of equations, there is no solution.  For example, consider the following system of equations:\n",
    "\n",
    "$$\n",
    "\\begin{align}\n",
    "x + y + z &= 6 \\\\\n",
    "2x + 2y + 2z &= 12 \\\\\n",
    "3x + 3y + 3z &= 13\n",
    "\\end{align}\n",
    "$$\n",
    "\n",
    "You can see this is really just one equation repeated three times and scaled by 2 and 3 with the exception that the constants on the right hand side of the equations are different.  And, there is no combination of $x$, $y$, and $z$ that satisfies this equation.  So there is no solution to this system of equations. If you devide Row 2 by 2 and divide Row 3 by 3 you see that:\n",
    "\n",
    "$$\n",
    "\\begin{align}\n",
    "x + y + z &= 6 \\\\\n",
    "x + y + z &= 6 \\\\\n",
    "x + y + z &= \\frac{13}{3}\n",
    "\\end{align}\n",
    "$$\n",
    "\n",
    "This is a contradictory system of equations.  The first two equations are identical, but the third equation is different.  So there is no solution to this system of equations."
   ]
  }
 ],
 "metadata": {
  "language_info": {
   "name": "python"
  }
 },
 "nbformat": 4,
 "nbformat_minor": 2
}
