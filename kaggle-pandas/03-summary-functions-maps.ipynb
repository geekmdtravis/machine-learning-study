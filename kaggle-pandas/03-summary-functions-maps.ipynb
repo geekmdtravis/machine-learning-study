{
 "cells": [
  {
   "cell_type": "markdown",
   "metadata": {},
   "source": [
    "# Summary Functions and Maps"
   ]
  },
  {
   "cell_type": "code",
   "execution_count": 10,
   "metadata": {},
   "outputs": [],
   "source": [
    "import pandas as pd\n",
    "\n",
    "wines_df = pd.read_csv(\"./wines.csv\")\n",
    "wines_df.head()\n",
    "wines_df.columns = wines_df.columns.str.strip()"
   ]
  },
  {
   "cell_type": "markdown",
   "metadata": {},
   "source": [
    "## Summary Functions\n",
    "There are a few major summary functions, and they include:\n",
    "- `mean()` - Returns the mean of all columns\n",
    "- `corr()` - Returns the correlation between columns in a DataFrame\n",
    "- `count()` - Returns the number of non-null values in each DataFrame column\n",
    "- `max()` - Returns the highest value in each column\n",
    "- `min()` - Returns the lowest value in each column\n",
    "- `median()` - Returns the median of each column\n",
    "- `std()` - Returns the standard deviation of each column\n",
    "- `var()` - Returns the variance of each column\n",
    "- `sum()` - Returns the sum of all the values in each column\n",
    "- `describe()` - Returns a statistical summary for each column\n",
    "- `value_counts()` - Returns the number of times each value occurs in a column\n",
    "\n",
    "... and more."
   ]
  },
  {
   "cell_type": "code",
   "execution_count": 11,
   "metadata": {},
   "outputs": [
    {
     "data": {
      "text/plain": [
       "49.5"
      ]
     },
     "execution_count": 11,
     "metadata": {},
     "output_type": "execute_result"
    }
   ],
   "source": [
    "wines_df.price = wines_df.price.astype(float)\n",
    "wines_df.price.mean()"
   ]
  },
  {
   "cell_type": "markdown",
   "metadata": {},
   "source": [
    "## Maps\n",
    "\n",
    "There are several forms of the map function Pandas. They are:\n",
    "- `apply()` - Used for substituting each value in a DataFrame OR Series with another value. \n",
    "  - On a Series, `apply()` can be used to apply a function to every value in the series. It applies the function one cell at a time.\n",
    "  - On a DataFrame, `apply()` can be used to apply a function to every value in the DataFrame. It applies the function one row at a time.\n",
    "- `map()` - Used for substituting each value in a Series with another value.\n",
    "- `applymap()` - Used for substituting each value in a DataFrame with another value.\n"
   ]
  },
  {
   "cell_type": "markdown",
   "metadata": {},
   "source": [
    "### `apply` on a Series"
   ]
  },
  {
   "cell_type": "code",
   "execution_count": 19,
   "metadata": {},
   "outputs": [
    {
     "data": {
      "text/plain": [
       "0    220.0\n",
       "1      NaN\n",
       "2    132.0\n",
       "3    292.0\n",
       "4    148.0\n",
       "Name: price, dtype: float64"
      ]
     },
     "execution_count": 19,
     "metadata": {},
     "output_type": "execute_result"
    }
   ],
   "source": [
    "def quadruple_price(cell_price):\n",
    "    return cell_price * 4\n",
    "\n",
    "tmp_df = pd.DataFrame(wines_df, copy=True)\n",
    "tmp_df.price.apply(quadruple_price)"
   ]
  },
  {
   "cell_type": "markdown",
   "metadata": {},
   "source": [
    "### `apply` on a DataFrame"
   ]
  },
  {
   "cell_type": "code",
   "execution_count": 20,
   "metadata": {},
   "outputs": [
    {
     "data": {
      "text/html": [
       "<div>\n",
       "<style scoped>\n",
       "    .dataframe tbody tr th:only-of-type {\n",
       "        vertical-align: middle;\n",
       "    }\n",
       "\n",
       "    .dataframe tbody tr th {\n",
       "        vertical-align: top;\n",
       "    }\n",
       "\n",
       "    .dataframe thead th {\n",
       "        text-align: right;\n",
       "    }\n",
       "</style>\n",
       "<table border=\"1\" class=\"dataframe\">\n",
       "  <thead>\n",
       "    <tr style=\"text-align: right;\">\n",
       "      <th></th>\n",
       "      <th>Unnamed: 0</th>\n",
       "      <th>country</th>\n",
       "      <th>price</th>\n",
       "      <th>comments</th>\n",
       "    </tr>\n",
       "  </thead>\n",
       "  <tbody>\n",
       "    <tr>\n",
       "      <th>0</th>\n",
       "      <td>0</td>\n",
       "      <td>USA</td>\n",
       "      <td>110.0</td>\n",
       "      <td>comments 1!</td>\n",
       "    </tr>\n",
       "    <tr>\n",
       "      <th>1</th>\n",
       "      <td>1</td>\n",
       "      <td>Canada</td>\n",
       "      <td>NaN</td>\n",
       "      <td>comments 2!</td>\n",
       "    </tr>\n",
       "    <tr>\n",
       "      <th>2</th>\n",
       "      <td>2</td>\n",
       "      <td>Brazil</td>\n",
       "      <td>66.0</td>\n",
       "      <td>comments 3!</td>\n",
       "    </tr>\n",
       "    <tr>\n",
       "      <th>3</th>\n",
       "      <td>3</td>\n",
       "      <td>NaN</td>\n",
       "      <td>146.0</td>\n",
       "      <td>comments 4!</td>\n",
       "    </tr>\n",
       "    <tr>\n",
       "      <th>4</th>\n",
       "      <td>4</td>\n",
       "      <td>USA</td>\n",
       "      <td>74.0</td>\n",
       "      <td>comments 5!</td>\n",
       "    </tr>\n",
       "  </tbody>\n",
       "</table>\n",
       "</div>"
      ],
      "text/plain": [
       "   Unnamed: 0  country  price      comments\n",
       "0           0      USA  110.0   comments 1!\n",
       "1           1   Canada    NaN   comments 2!\n",
       "2           2   Brazil   66.0   comments 3!\n",
       "3           3      NaN  146.0   comments 4!\n",
       "4           4      USA   74.0   comments 5!"
      ]
     },
     "execution_count": 20,
     "metadata": {},
     "output_type": "execute_result"
    }
   ],
   "source": [
    "def modify_dataframe(row_series):\n",
    "    row_series.price = row_series.price * 2\n",
    "    row_series.comments = row_series.comments + \"!\"\n",
    "    return row_series\n",
    "\n",
    "tmp_df = pd.DataFrame(wines_df, copy=True)\n",
    "tmp_df.apply(modify_dataframe, axis='columns')"
   ]
  },
  {
   "cell_type": "markdown",
   "metadata": {},
   "source": [
    "### `map` on a Series"
   ]
  },
  {
   "cell_type": "code",
   "execution_count": 16,
   "metadata": {},
   "outputs": [
    {
     "data": {
      "text/plain": [
       "0    220.0\n",
       "1      NaN\n",
       "2    132.0\n",
       "3    292.0\n",
       "4    148.0\n",
       "Name: price, dtype: float64"
      ]
     },
     "execution_count": 16,
     "metadata": {},
     "output_type": "execute_result"
    }
   ],
   "source": [
    "def double_price(cell_price) -> int:\n",
    "    if type(cell_price) is not float:\n",
    "        raise TypeError(\"Price must be a float.\")\n",
    "    return cell_price * 2\n",
    "\n",
    "tmp_df = pd.DataFrame(wines_df, copy=True)\n",
    "tmp_df.price = tmp_df.price.map(double_price)\n",
    "tmp_df.price = tmp_df.price.map(double_price)\n",
    "tmp_df.price"
   ]
  },
  {
   "cell_type": "markdown",
   "metadata": {},
   "source": [
    "### `applymap` on a DataFrame"
   ]
  },
  {
   "cell_type": "code",
   "execution_count": 17,
   "metadata": {},
   "outputs": [
    {
     "data": {
      "text/html": [
       "<div>\n",
       "<style scoped>\n",
       "    .dataframe tbody tr th:only-of-type {\n",
       "        vertical-align: middle;\n",
       "    }\n",
       "\n",
       "    .dataframe tbody tr th {\n",
       "        vertical-align: top;\n",
       "    }\n",
       "\n",
       "    .dataframe thead th {\n",
       "        text-align: right;\n",
       "    }\n",
       "</style>\n",
       "<table border=\"1\" class=\"dataframe\">\n",
       "  <thead>\n",
       "    <tr style=\"text-align: right;\">\n",
       "      <th></th>\n",
       "      <th>Unnamed: 0</th>\n",
       "      <th>country</th>\n",
       "      <th>price</th>\n",
       "      <th>comments</th>\n",
       "    </tr>\n",
       "  </thead>\n",
       "  <tbody>\n",
       "    <tr>\n",
       "      <th>0</th>\n",
       "      <td>0</td>\n",
       "      <td>USA USA USA</td>\n",
       "      <td>165.0</td>\n",
       "      <td>comments 1 comments 1 comments 1</td>\n",
       "    </tr>\n",
       "    <tr>\n",
       "      <th>1</th>\n",
       "      <td>3</td>\n",
       "      <td>Canada Canada Canada</td>\n",
       "      <td>NaN</td>\n",
       "      <td>comments 2 comments 2 comments 2</td>\n",
       "    </tr>\n",
       "    <tr>\n",
       "      <th>2</th>\n",
       "      <td>6</td>\n",
       "      <td>Brazil Brazil Brazil</td>\n",
       "      <td>99.0</td>\n",
       "      <td>comments 3 comments 3 comments 3</td>\n",
       "    </tr>\n",
       "    <tr>\n",
       "      <th>3</th>\n",
       "      <td>9</td>\n",
       "      <td>NaN NaN NaN</td>\n",
       "      <td>219.0</td>\n",
       "      <td>comments 4 comments 4 comments 4</td>\n",
       "    </tr>\n",
       "    <tr>\n",
       "      <th>4</th>\n",
       "      <td>12</td>\n",
       "      <td>USA USA USA</td>\n",
       "      <td>111.0</td>\n",
       "      <td>comments 5 comments 5 comments 5</td>\n",
       "    </tr>\n",
       "  </tbody>\n",
       "</table>\n",
       "</div>"
      ],
      "text/plain": [
       "   Unnamed: 0                country  price                           comments\n",
       "0           0            USA USA USA  165.0   comments 1 comments 1 comments 1\n",
       "1           3   Canada Canada Canada    NaN   comments 2 comments 2 comments 2\n",
       "2           6   Brazil Brazil Brazil   99.0   comments 3 comments 3 comments 3\n",
       "3           9            NaN NaN NaN  219.0   comments 4 comments 4 comments 4\n",
       "4          12            USA USA USA  111.0   comments 5 comments 5 comments 5"
      ]
     },
     "execution_count": 17,
     "metadata": {},
     "output_type": "execute_result"
    }
   ],
   "source": [
    "def triple_price(cell) -> int:\n",
    "    cell = cell * 3\n",
    "    return cell\n",
    "\n",
    "tmp_df = pd.DataFrame(wines_df, copy=True)\n",
    "tmp_df.applymap(triple_price)"
   ]
  }
 ],
 "metadata": {
  "kernelspec": {
   "display_name": "base",
   "language": "python",
   "name": "python3"
  },
  "language_info": {
   "codemirror_mode": {
    "name": "ipython",
    "version": 3
   },
   "file_extension": ".py",
   "mimetype": "text/x-python",
   "name": "python",
   "nbconvert_exporter": "python",
   "pygments_lexer": "ipython3",
   "version": "3.11.5"
  }
 },
 "nbformat": 4,
 "nbformat_minor": 2
}
