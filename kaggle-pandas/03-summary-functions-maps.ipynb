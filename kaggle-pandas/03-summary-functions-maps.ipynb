{
 "cells": [
  {
   "cell_type": "markdown",
   "metadata": {},
   "source": [
    "# Summary Functions and Maps"
   ]
  },
  {
   "cell_type": "code",
   "execution_count": 12,
   "metadata": {},
   "outputs": [],
   "source": [
    "import pandas as pd\n",
    "\n",
    "wines_df = pd.read_csv(\"./wines.csv\")\n",
    "wines_df.head()\n",
    "wines_df.columns = wines_df.columns.str.strip()"
   ]
  },
  {
   "cell_type": "markdown",
   "metadata": {},
   "source": [
    "## Summary Functions\n",
    "There are a few major summary functions, and they include:\n",
    "- `mean()` - Returns the mean of all columns\n",
    "- `corr()` - Returns the correlation between columns in a DataFrame\n",
    "- `count()` - Returns the number of non-null values in each DataFrame column\n",
    "- `max()` - Returns the highest value in each column\n",
    "- `min()` - Returns the lowest value in each column\n",
    "- `median()` - Returns the median of each column\n",
    "- `std()` - Returns the standard deviation of each column\n",
    "- `var()` - Returns the variance of each column\n",
    "- `sum()` - Returns the sum of all the values in each column\n",
    "- `describe()` - Returns a statistical summary for each column\n",
    "- `value_counts()` - Returns the number of times each value occurs in a column\n",
    "\n",
    "... and more."
   ]
  },
  {
   "cell_type": "code",
   "execution_count": 15,
   "metadata": {},
   "outputs": [
    {
     "data": {
      "text/plain": [
       "49.5"
      ]
     },
     "execution_count": 15,
     "metadata": {},
     "output_type": "execute_result"
    }
   ],
   "source": [
    "wines_df.price = wines_df.price.astype(float)\n",
    "wines_df.price.mean()"
   ]
  }
 ],
 "metadata": {
  "kernelspec": {
   "display_name": "base",
   "language": "python",
   "name": "python3"
  },
  "language_info": {
   "codemirror_mode": {
    "name": "ipython",
    "version": 3
   },
   "file_extension": ".py",
   "mimetype": "text/x-python",
   "name": "python",
   "nbconvert_exporter": "python",
   "pygments_lexer": "ipython3",
   "version": "3.11.5"
  }
 },
 "nbformat": 4,
 "nbformat_minor": 2
}
